{
  "cells": [
    {
      "cell_type": "markdown",
      "metadata": {
        "id": "4p06IPOk5xil"
      },
      "source": [
        "# **응급상황 자동 인식 및 응급실 연계 서비스**\n",
        "# **단계4 : 통합 - pipeline**"
      ]
    },
    {
      "cell_type": "markdown",
      "metadata": {
        "id": "HRuiqkZnuq94"
      },
      "source": [
        "## **0.미션**\n",
        "\n",
        "단계 4에서는, 단계1,2,3 에서 생성한 함수들을 모듈화하고, 단위 테스트 및 파이프라인 코드를 작성합니다."
      ]
    },
    {
      "cell_type": "markdown",
      "metadata": {
        "id": "Y_tnKlblyQak"
      },
      "source": [
        "* **미션6**\n",
        "    * 단위 테스트\n",
        "        * 각 기능(함수)에 대해 단계별로 테스트를 수행하며 오류를 해결합니다.\n",
        "    * 파이프라인 구축\n",
        "        * 단계1의 결과가 단계2 모델에 input이 되고, 모델의 예측 결과를 기반으로\n",
        "        * 응급실 추천되도록\n",
        "        * 조원들이 녹음한 음성 파일에 임의의 좌표(위도, 경도)값을 부여\n",
        "            * 음성파일 이름과 좌표를 저장하는 별도 데이터셋 생성\n",
        "        * 각 모듈을 연결하여 파이프라인 구성하는 ipynb 파일 생성\n",
        "\n"
      ]
    },
    {
      "cell_type": "markdown",
      "metadata": {
        "id": "76Pw6f64d5VU"
      },
      "source": [
        "## **1.환경설정**"
      ]
    },
    {
      "cell_type": "markdown",
      "metadata": {
        "id": "1is0ZmzXeBrA"
      },
      "source": [
        "### (1) 경로 설정\n",
        "\n",
        "구글 드라이브 연결"
      ]
    },
    {
      "cell_type": "markdown",
      "metadata": {
        "id": "xUOpvAJGGJnL"
      },
      "source": [
        "#### 1) 구글 드라이브 폴더 생성\n",
        "* 새 폴더(project6_2)를 생성하고\n",
        "* 제공 받은 파일을 업로드"
      ]
    },
    {
      "cell_type": "markdown",
      "metadata": {
        "id": "4jUC5td4GLEF"
      },
      "source": [
        "#### 2) 구글 드라이브 연결"
      ]
    },
    {
      "cell_type": "code",
      "execution_count": 15,
      "metadata": {
        "id": "_wX7xlPARSDj",
        "colab": {
          "base_uri": "https://localhost:8080/"
        },
        "outputId": "90ae0dbf-40b3-403b-c942-611c00e066d5"
      },
      "outputs": [
        {
          "output_type": "stream",
          "name": "stdout",
          "text": [
            "Drive already mounted at /content/drive; to attempt to forcibly remount, call drive.mount(\"/content/drive\", force_remount=True).\n"
          ]
        }
      ],
      "source": [
        "from google.colab import drive\n",
        "drive.mount('/content/drive')"
      ]
    },
    {
      "cell_type": "code",
      "execution_count": 16,
      "metadata": {
        "id": "JhVujnYp4TJe"
      },
      "outputs": [],
      "source": [
        "path = '/content/drive/MyDrive/project6-2/'"
      ]
    },
    {
      "cell_type": "markdown",
      "metadata": {
        "id": "6aFiucu6evl_"
      },
      "source": [
        "### (2) 라이브러리"
      ]
    },
    {
      "cell_type": "markdown",
      "metadata": {
        "id": "xpXTO7gP4vyQ"
      },
      "source": [
        "#### 2) 라이브러리 로딩"
      ]
    },
    {
      "cell_type": "code",
      "execution_count": 17,
      "metadata": {
        "id": "_bx5a2MBfAt2"
      },
      "outputs": [],
      "source": [
        "#필요한 라이브러리 설치 및 불러우기\n",
        "import os\n",
        "os.environ['TF_CPP_MIN_LOG_LEVEL'] = '2' # 경고메시지 안 뜨게\n",
        "import requests\n",
        "import xml.etree.ElementTree as ET\n",
        "import pandas as pd\n",
        "import openai\n",
        "from openai import OpenAI\n",
        "import json\n",
        "import sys\n",
        "sys.path.append(path)\n",
        "\n",
        "from transformers import AutoTokenizer, AutoModelForSequenceClassification\n",
        "\n",
        "\n",
        "# 조에서 생성한 모듈 불러오기 -------------\n",
        "sys.path.append('/content/drive/MyDrive/project6-2')\n",
        "from module import emergency\n",
        "\n"
      ]
    },
    {
      "cell_type": "markdown",
      "metadata": {
        "id": "l-qzK-Egog5E"
      },
      "source": [
        "## **2. 단위 테스트**\n",
        "\n",
        "* 세부사항 : 아래 단계별로 데이터가 순차적으로 처리되도록 단위 테스트를 진행합니다."
      ]
    },
    {
      "cell_type": "markdown",
      "source": [],
      "metadata": {
        "id": "6xkfhZ-bmW_1"
      }
    },
    {
      "cell_type": "markdown",
      "metadata": {
        "id": "Y2h3kvuJekAJ"
      },
      "source": [
        "### (1) open ai key 등록"
      ]
    },
    {
      "cell_type": "code",
      "source": [
        "module_path = path + 'module/'"
      ],
      "metadata": {
        "id": "yM3lXaJpHGZt"
      },
      "execution_count": 18,
      "outputs": []
    },
    {
      "cell_type": "code",
      "source": [
        "module_path"
      ],
      "metadata": {
        "colab": {
          "base_uri": "https://localhost:8080/",
          "height": 35
        },
        "id": "HgSN3fYkNMWP",
        "outputId": "f928b61e-fb0c-4ee5-c9df-57ae740311e2"
      },
      "execution_count": 19,
      "outputs": [
        {
          "output_type": "execute_result",
          "data": {
            "text/plain": [
              "'/content/drive/MyDrive/project6-2/module/'"
            ],
            "application/vnd.google.colaboratory.intrinsic+json": {
              "type": "string"
            }
          },
          "metadata": {},
          "execution_count": 19
        }
      ]
    },
    {
      "cell_type": "markdown",
      "source": [],
      "metadata": {
        "id": "dqNQqZz_mXXu"
      }
    },
    {
      "cell_type": "code",
      "source": [
        "client = emergency.init_openai()\n",
        "print(client)"
      ],
      "metadata": {
        "colab": {
          "base_uri": "https://localhost:8080/"
        },
        "id": "kWKqLFucLsBt",
        "outputId": "5be84b78-9b64-4333-8d49-bdc4d6da4324"
      },
      "execution_count": 20,
      "outputs": [
        {
          "output_type": "stream",
          "name": "stdout",
          "text": [
            "<openai.OpenAI object at 0x796ff926cfd0>\n"
          ]
        }
      ]
    },
    {
      "cell_type": "markdown",
      "metadata": {
        "id": "jn3tn-GuK0My"
      },
      "source": [
        "### (2) audio to text"
      ]
    },
    {
      "cell_type": "code",
      "source": [
        "audio_path = module_path + \"audio/\"\n",
        "audio_file = open(audio_path + \"5단계_약_처방_요청_gh.wav\", \"rb\")\n",
        "print(audio_file)"
      ],
      "metadata": {
        "id": "HMJwYp1SLGlU",
        "colab": {
          "base_uri": "https://localhost:8080/"
        },
        "outputId": "1405e9bc-b947-4753-f2fe-cf2a48b1d9b9"
      },
      "execution_count": 21,
      "outputs": [
        {
          "output_type": "stream",
          "name": "stdout",
          "text": [
            "<_io.BufferedReader name='/content/drive/MyDrive/project6-2/module/audio/5단계_약_처방_요청_gh.wav'>\n"
          ]
        }
      ]
    },
    {
      "cell_type": "code",
      "execution_count": 22,
      "metadata": {
        "id": "2jcNEwGveebo",
        "colab": {
          "base_uri": "https://localhost:8080/",
          "height": 35
        },
        "outputId": "da8b4c2c-383f-494d-aa59-723ca693b0d1"
      },
      "outputs": [
        {
          "output_type": "execute_result",
          "data": {
            "text/plain": [
              "'저희 할머니가 드시는 약이 떨어졌는데 다시 처방받아야 할 것 같아요. 어떻게 해야 할까요?'"
            ],
            "application/vnd.google.colaboratory.intrinsic+json": {
              "type": "string"
            }
          },
          "metadata": {},
          "execution_count": 22
        }
      ],
      "source": [
        "text = emergency.audio_to_text(client,audio_file)\n",
        "text"
      ]
    },
    {
      "cell_type": "markdown",
      "metadata": {
        "id": "DnyVoEvqe81v"
      },
      "source": [
        "### (3) text summary"
      ]
    },
    {
      "cell_type": "code",
      "execution_count": 23,
      "metadata": {
        "id": "2vVlh-oXe81v",
        "colab": {
          "base_uri": "https://localhost:8080/"
        },
        "outputId": "59ab3215-087d-4eae-b8cf-683db83036a7"
      },
      "outputs": [
        {
          "output_type": "execute_result",
          "data": {
            "text/plain": [
              "{'summary': '할머니가 드시는 약이 떨어져서 다시 처방받아야 하는 상황입니다.',\n",
              " 'keywords': '할머니, 약, 떨어짐, 다시 처방, 상황'}"
            ]
          },
          "metadata": {},
          "execution_count": 23
        }
      ],
      "source": [
        "summarized_text = emergency.summarize_text(client,text)\n",
        "summarized_text"
      ]
    },
    {
      "cell_type": "markdown",
      "metadata": {
        "id": "Q1WvCVInfMQw"
      },
      "source": [
        "### (4) 응급실 등급분류"
      ]
    },
    {
      "cell_type": "code",
      "execution_count": 24,
      "metadata": {
        "id": "e-maRgSLUh86"
      },
      "outputs": [],
      "source": [
        "#모델 로드\n",
        "tokenizer, model, device=emergency.load_emergency_model()"
      ]
    },
    {
      "cell_type": "code",
      "source": [
        "#가져온 모델로 해당 유저의 경도 예측\n",
        "emergency_grade,percent=emergency.predict_emergency(summarized_text,tokenizer, model, device)\n",
        "print(emergency_grade,percent)"
      ],
      "metadata": {
        "colab": {
          "base_uri": "https://localhost:8080/"
        },
        "id": "1-dIWPZbkHH3",
        "outputId": "9e89560e-ccc5-4334-8aa5-1d755b8e8dee"
      },
      "execution_count": 25,
      "outputs": [
        {
          "output_type": "stream",
          "name": "stdout",
          "text": [
            "4 tensor([0.2400, 0.1475, 0.1897, 0.0133, 0.4095])\n"
          ]
        }
      ]
    },
    {
      "cell_type": "markdown",
      "source": [],
      "metadata": {
        "id": "mLp3C8HYqpWa"
      }
    },
    {
      "cell_type": "markdown",
      "metadata": {
        "id": "lL0Np_CFrA5g"
      },
      "source": [
        "### (5) 응급실추천"
      ]
    },
    {
      "cell_type": "code",
      "execution_count": 26,
      "metadata": {
        "id": "MwsOD-DEr_4Q",
        "colab": {
          "base_uri": "https://localhost:8080/"
        },
        "outputId": "11d8523a-aef0-443f-f652-9ed6cf2b7cc6"
      },
      "outputs": [
        {
          "output_type": "stream",
          "name": "stdout",
          "text": [
            "응급 상황이 아닙니다\n"
          ]
        }
      ],
      "source": [
        "\n",
        "# 테스트를 위한 좌표 설정 (예: 서울시청 좌표)\n",
        "# user_lat, user_lon = 37.5665, 126.9780\n",
        "user_lat, user_lon = 35.1146979145937, 129.036828325565\n",
        "#응급상황 판단 (기준은 등급 <=3)\n",
        "if(emergency_grade+1<=3):\n",
        "  result=emergency.recommend_nearest_hospitals(user_lat, user_lon, emergency.get_hospital_data())\n",
        "  print(result)\n",
        "else:\n",
        "  result = ''\n",
        "  print(\"응급 상황이 아닙니다\")\n"
      ]
    },
    {
      "cell_type": "markdown",
      "metadata": {
        "id": "D73P_NjZq585"
      },
      "source": [
        "## **3. 파이프라인**\n",
        "\n",
        "* 세부사항\n",
        "    * [2. 단계별 테스트] 의 내용을 순차적으로 정리합니다.\n",
        "        * 데이터 처리 전 준비작업 : 한번 실행하면 되는 영역\n",
        "            * 키, 데이터로딩\n",
        "            * 모델/토크나이저 로딩\n",
        "        * 입력값이 들어 왔을 때 출력값까지 처리되는 영역"
      ]
    },
    {
      "cell_type": "code",
      "source": [
        "module_path = path + 'module/'\n",
        "audio_path = module_path + \"audio/\"\n",
        "audio_file = open(audio_path + \"5단계_약_처방_요청_gh.wav\", \"rb\")\n",
        "print(audio_file)"
      ],
      "metadata": {
        "colab": {
          "base_uri": "https://localhost:8080/"
        },
        "id": "18w8a1LUvynU",
        "outputId": "56874f47-237a-4518-f65c-d5c517b79258"
      },
      "execution_count": 27,
      "outputs": [
        {
          "output_type": "stream",
          "name": "stdout",
          "text": [
            "<_io.BufferedReader name='/content/drive/MyDrive/project6-2/module/audio/5단계_약_처방_요청_gh.wav'>\n"
          ]
        }
      ]
    },
    {
      "cell_type": "code",
      "execution_count": 28,
      "metadata": {
        "id": "pb3oRhKDfHpc",
        "colab": {
          "base_uri": "https://localhost:8080/"
        },
        "outputId": "44c3bef5-8443-4c06-c5a4-f7b259a3676e"
      },
      "outputs": [
        {
          "output_type": "stream",
          "name": "stdout",
          "text": [
            "병원 추천이 필요없습니다.\n"
          ]
        }
      ],
      "source": [
        "result=emergency.recommend_hospital(audio_file, user_lat, user_lon)\n",
        "result"
      ]
    }
  ],
  "metadata": {
    "colab": {
      "provenance": []
    },
    "kernelspec": {
      "display_name": "Python 3",
      "name": "python3"
    },
    "language_info": {
      "name": "python"
    }
  },
  "nbformat": 4,
  "nbformat_minor": 0
}